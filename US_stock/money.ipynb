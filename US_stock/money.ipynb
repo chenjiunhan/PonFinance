{
 "cells": [
  {
   "cell_type": "code",
   "execution_count": 147,
   "metadata": {},
   "outputs": [
    {
     "name": "stdout",
     "output_type": "stream",
     "text": [
      "year: 1 378000.0 360000 60000 30000 1500.0000000000011\n",
      "year: 2 1152900.0 720000 90000 60000 3000.0000000000023\n",
      "year: 3 2533545.0 1260000 135000 105000 5250.000000000005\n",
      "2533545.0\n",
      "2340000.0\n",
      "193545.0\n"
     ]
    }
   ],
   "source": [
    "spend = 3 * 10000\n",
    "m = 6 * 10000\n",
    "ym = (m - spend) * 12\n",
    "num_y = 3\n",
    "m_rate = 1.5\n",
    "m_max = 2000000 / 12\n",
    "rate = 1.05\n",
    "sum_m = 0.0\n",
    "save = 0.0\n",
    "for year in range(1, num_y+1):\n",
    "    sum_m += ym\n",
    "    sum_m *= rate\n",
    "    print(\"year:\", year, sum_m, ym, m, m - spend, ym * (rate - 1) / 12)\n",
    "    save += ym\n",
    "    m = round(min(m * m_rate, m_max))\n",
    "    ym = (m - spend) * 12\n",
    "    \n",
    "#print(\"year:\", num_y, ym, m, m - spend)\n",
    "print(sum_m)\n",
    "print(save)\n",
    "print(sum_m - save)"
   ]
  },
  {
   "cell_type": "code",
   "execution_count": null,
   "metadata": {},
   "outputs": [],
   "source": []
  },
  {
   "cell_type": "code",
   "execution_count": null,
   "metadata": {},
   "outputs": [],
   "source": []
  }
 ],
 "metadata": {
  "kernelspec": {
   "display_name": "Python 3",
   "language": "python",
   "name": "python3"
  },
  "language_info": {
   "codemirror_mode": {
    "name": "ipython",
    "version": 3
   },
   "file_extension": ".py",
   "mimetype": "text/x-python",
   "name": "python",
   "nbconvert_exporter": "python",
   "pygments_lexer": "ipython3",
   "version": "3.5.2"
  }
 },
 "nbformat": 4,
 "nbformat_minor": 4
}
